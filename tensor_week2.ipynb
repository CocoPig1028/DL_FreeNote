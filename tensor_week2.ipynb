{
 "cells": [
  {
   "cell_type": "markdown",
   "metadata": {
    "id": "ME4xVKRSvWxH"
   },
   "source": [
    "# 텐서플로우 회귀 분석 모델\n",
    "\n",
    "- 다양한 방법이 존재\n",
    "- 텐서플로우2만 사용하는 방법, 케라스를 이용한 방법, 둘을 모두 섞은 방법 등등  \n"
   ]
  },
  {
   "cell_type": "markdown",
   "metadata": {
    "id": "Lw9JHQ2btU9O"
   },
   "source": [
    "## 선형 회귀(Linear Regression)"
   ]
  },
  {
   "cell_type": "code",
   "execution_count": 1,
   "metadata": {
    "id": "rc0SydSstXAj"
   },
   "outputs": [
    {
     "name": "stderr",
     "output_type": "stream",
     "text": [
      "/var/folders/90/nhqnhqyn07v1sx9mn64ln2kc0000gn/T/ipykernel_3548/1790343300.py:5: MatplotlibDeprecationWarning: The seaborn styles shipped by Matplotlib are deprecated since 3.6, as they no longer correspond to the styles shipped by seaborn. However, they will remain available as 'seaborn-v0_8-<style>'. Alternatively, directly use the seaborn API instead.\n",
      "  plt.style.use('seaborn-white')\n"
     ]
    }
   ],
   "source": [
    "import numpy as np\n",
    "import tensorflow as tf\n",
    "import matplotlib.pyplot as plt\n",
    "\n",
    "plt.style.use('seaborn-white')"
   ]
  },
  {
   "cell_type": "code",
   "execution_count": 2,
   "metadata": {
    "id": "qvFld-m-tcnD"
   },
   "outputs": [],
   "source": [
    "learning_rate = 0.1\n",
    "training_steps = 1000"
   ]
  },
  {
   "cell_type": "code",
   "execution_count": 3,
   "metadata": {
    "id": "0-3wzjHjtgBg"
   },
   "outputs": [],
   "source": [
    "X = np.random.randn(50)\n",
    "Y = 2*X + np.random.randn(50)"
   ]
  },
  {
   "cell_type": "code",
   "execution_count": 4,
   "metadata": {
    "id": "yAdt62LKti-W"
   },
   "outputs": [
    {
     "name": "stderr",
     "output_type": "stream",
     "text": [
      "2023-11-08 14:01:44.432391: I metal_plugin/src/device/metal_device.cc:1154] Metal device set to: Apple M1\n",
      "2023-11-08 14:01:44.432412: I metal_plugin/src/device/metal_device.cc:296] systemMemory: 8.00 GB\n",
      "2023-11-08 14:01:44.432416: I metal_plugin/src/device/metal_device.cc:313] maxCacheSize: 2.67 GB\n",
      "2023-11-08 14:01:44.432442: I tensorflow/core/common_runtime/pluggable_device/pluggable_device_factory.cc:306] Could not identify NUMA node of platform GPU ID 0, defaulting to 0. Your kernel may not have been built with NUMA support.\n",
      "2023-11-08 14:01:44.432456: I tensorflow/core/common_runtime/pluggable_device/pluggable_device_factory.cc:272] Created TensorFlow device (/job:localhost/replica:0/task:0/device:GPU:0 with 0 MB memory) -> physical PluggableDevice (device: 0, name: METAL, pci bus id: <undefined>)\n",
      "WARNING:absl:At this time, the v2.11+ optimizer `tf.keras.optimizers.SGD` runs slowly on M1/M2 Macs, please use the legacy Keras optimizer instead, located at `tf.keras.optimizers.legacy.SGD`.\n"
     ]
    }
   ],
   "source": [
    "W = tf.Variable(np.random.randn(), name='weight')\n",
    "b = tf.Variable(np.random.randn(), name='bias')\n",
    "\n",
    "def linear_regression(x):\n",
    "    return W * x + b\n",
    "\n",
    "def mean_square(y_pred, y_true):\n",
    "    return tf.reduce_mean(tf.square(y_pred - y_true))\n",
    "\n",
    "optimizer = tf.optimizers.SGD(learning_rate)"
   ]
  },
  {
   "cell_type": "code",
   "execution_count": 5,
   "metadata": {
    "id": "P8mLzC5vuCwp"
   },
   "outputs": [],
   "source": [
    "def run_optimization():\n",
    "    with tf.GradientTape() as tape:\n",
    "        pred = linear_regression(X)\n",
    "        loss = mean_square(pred, Y)\n",
    "        \n",
    "    gradients = tape.gradient(loss, [W, b])\n",
    "    \n",
    "    optimizer.apply_gradients(zip(gradients, [W, b]))"
   ]
  },
  {
   "cell_type": "code",
   "execution_count": 6,
   "metadata": {
    "id": "dpMeJIaquPld"
   },
   "outputs": [
    {
     "name": "stdout",
     "output_type": "stream",
     "text": [
      "step:   50\tloss: 1.311028\tW: 1.810954\tb: 0.129129\n",
      "step:  100\tloss: 1.311028\tW: 1.811011\tb: 0.129110\n",
      "step:  150\tloss: 1.311028\tW: 1.811011\tb: 0.129110\n",
      "step:  200\tloss: 1.311028\tW: 1.811011\tb: 0.129110\n",
      "step:  250\tloss: 1.311028\tW: 1.811011\tb: 0.129110\n",
      "step:  300\tloss: 1.311028\tW: 1.811011\tb: 0.129110\n",
      "step:  350\tloss: 1.311028\tW: 1.811011\tb: 0.129110\n",
      "step:  400\tloss: 1.311028\tW: 1.811011\tb: 0.129110\n",
      "step:  450\tloss: 1.311028\tW: 1.811011\tb: 0.129110\n",
      "step:  500\tloss: 1.311028\tW: 1.811011\tb: 0.129110\n",
      "step:  550\tloss: 1.311028\tW: 1.811011\tb: 0.129110\n",
      "step:  600\tloss: 1.311028\tW: 1.811011\tb: 0.129110\n",
      "step:  650\tloss: 1.311028\tW: 1.811011\tb: 0.129110\n",
      "step:  700\tloss: 1.311028\tW: 1.811011\tb: 0.129110\n",
      "step:  750\tloss: 1.311028\tW: 1.811011\tb: 0.129110\n",
      "step:  800\tloss: 1.311028\tW: 1.811011\tb: 0.129110\n",
      "step:  850\tloss: 1.311028\tW: 1.811011\tb: 0.129110\n",
      "step:  900\tloss: 1.311028\tW: 1.811011\tb: 0.129110\n",
      "step:  950\tloss: 1.311028\tW: 1.811011\tb: 0.129110\n",
      "step: 1000\tloss: 1.311028\tW: 1.811011\tb: 0.129110\n"
     ]
    }
   ],
   "source": [
    "for step in range(1, training_steps + 1):\n",
    "    run_optimization()\n",
    "    \n",
    "    if step % 50 == 0:\n",
    "        pred = linear_regression(X)\n",
    "        loss = mean_square(pred, Y)\n",
    "        \n",
    "        print('step: {:4d}\\tloss: {:4f}\\tW: {:4f}\\tb: {:4f}'.format(step, loss, W.numpy(), b.numpy()))"
   ]
  },
  {
   "cell_type": "code",
   "execution_count": 13,
   "metadata": {
    "id": "is397GkquXu1"
   },
   "outputs": [
    {
     "data": {
      "image/png": "[encoded data removed]",
      "text/plain": [
       "<Figure size 640x480 with 1 Axes>"
      ]
     },
     "metadata": {},
     "output_type": "display_data"
    }
   ],
   "source": [
    "plt.plot(X, Y, 'ro', label='Data')\n",
    "plt.plot(X, np.array(W * X + b), label='Fitted Line')\n",
    "# plt.plot(X, pred, 'g^', label='pred')\n",
    "plt.legend()\n",
    "plt.grid()\n",
    "plt.show()"
   ]
  },
  {
   "cell_type": "markdown",
   "metadata": {
    "id": "hmwhh8v7ooEh"
   },
   "source": [
    "## 다항 회귀 (Nonlinear Regression)\n"
   ]
  },
  {
   "cell_type": "markdown",
   "metadata": {
    "id": "JzPHMupUouoj"
   },
   "source": [
    "### modules import"
   ]
  },
  {
   "cell_type": "code",
   "execution_count": 14,
   "metadata": {
    "id": "nwjaLZxmosFb"
   },
   "outputs": [],
   "source": [
    "from tensorflow.keras.optimizers import Adam"
   ]
  },
  {
   "cell_type": "markdown",
   "metadata": {
    "id": "a4Eypd3lqIH7"
   },
   "source": [
    "### Hyper Parameters"
   ]
  },
  {
   "cell_type": "code",
   "execution_count": 15,
   "metadata": {
    "id": "PwYv4RjrqKDk"
   },
   "outputs": [],
   "source": [
    "epochs = 1000\n",
    "learning_rate = 0.04"
   ]
  },
  {
   "cell_type": "markdown",
   "metadata": {
    "id": "SBFf3xYkpK__"
   },
   "source": [
    "### 변수 지정"
   ]
  },
  {
   "cell_type": "code",
   "execution_count": 24,
   "metadata": {
    "id": "rdYHM586osJT"
   },
   "outputs": [],
   "source": [
    "a = tf.Variable(np.random.randn())\n",
    "b = tf.Variable(np.random.randn())\n",
    "c = tf.Variable(np.random.randn())"
   ]
  },
  {
   "cell_type": "code",
   "execution_count": 25,
   "metadata": {
    "id": "n0BoMoSgqmR2"
   },
   "outputs": [
    {
     "name": "stdout",
     "output_type": "stream",
     "text": [
      "1.242123\n",
      "1.3701998\n",
      "1.401788\n"
     ]
    }
   ],
   "source": [
    "print(a.numpy())\n",
    "print(b.numpy())\n",
    "print(c.numpy())"
   ]
  },
  {
   "cell_type": "markdown",
   "metadata": {
    "id": "3-ks5u2ypTtb"
   },
   "source": [
    "### 데이터 지정"
   ]
  },
  {
   "cell_type": "code",
   "execution_count": 35,
   "metadata": {
    "id": "rgVzGBLEor8l"
   },
   "outputs": [],
   "source": [
    "X = np.random.randn(50)\n",
    "Y = X**2 + X*np.random.randn(50)"
   ]
  },
  {
   "cell_type": "code",
   "execution_count": 36,
   "metadata": {
    "id": "uodrzxT1rU1G"
   },
   "outputs": [
    {
     "data": {
      "image/png": "[encoded data removed]",
      "text/plain": [
       "<Figure size 640x480 with 1 Axes>"
      ]
     },
     "metadata": {},
     "output_type": "display_data"
    }
   ],
   "source": [
    "line_x = np.arange(min(X), max(X), 0.001)\n",
    "line_y = a*line_x**2 + b*line_x + c\n",
    "\n",
    "x_ = np.arange(-4.0, 4.0, 0.001)\n",
    "y_ = a*x_**2 + b*x_ + c\n",
    "\n",
    "plt.scatter(X, Y, label='X data')\n",
    "plt.plot(x_, y_, 'g--', label='origin line')\n",
    "plt.plot(line_x, line_y, 'r--', label='before train')\n",
    "plt.xlim(-4.0, 4.0)\n",
    "plt.legend()\n",
    "plt.grid()\n",
    "plt.show()"
   ]
  },
  {
   "cell_type": "markdown",
   "metadata": {
    "id": "7C56lq45uM-V"
   },
   "source": [
    "### Util Functions"
   ]
  },
  {
   "cell_type": "code",
   "execution_count": 37,
   "metadata": {
    "id": "_pvdH6U9uJ8i"
   },
   "outputs": [],
   "source": [
    "def compute_loss():\n",
    "    pred_y = a*(np.array(X)**2) + b*np.array(X) + c\n",
    "    loss = tf.reduce_mean((Y - pred_y)**2)\n",
    "    return loss"
   ]
  },
  {
   "cell_type": "markdown",
   "metadata": {
    "id": "kcme5VWPp6fz"
   },
   "source": [
    "### Optimizer"
   ]
  },
  {
   "cell_type": "code",
   "execution_count": 38,
   "metadata": {
    "id": "R4TSy8j2or5J"
   },
   "outputs": [
    {
     "name": "stderr",
     "output_type": "stream",
     "text": [
      "WARNING:absl:At this time, the v2.11+ optimizer `tf.keras.optimizers.Adam` runs slowly on M1/M2 Macs, please use the legacy Keras optimizer instead, located at `tf.keras.optimizers.legacy.Adam`.\n"
     ]
    }
   ],
   "source": [
    "optimizer = Adam(learning_rate=learning_rate)"
   ]
  },
  {
   "cell_type": "markdown",
   "metadata": {
    "id": "5QVfbg2uqEx8"
   },
   "source": [
    "### 학습"
   ]
  },
  {
   "cell_type": "code",
   "execution_count": 39,
   "metadata": {
    "id": "DBjCdWz9or1p"
   },
   "outputs": [
    {
     "name": "stdout",
     "output_type": "stream",
     "text": [
      "epoch:  100\ta 0.894452\tb -0.194707\tc 0.061314\t\n",
      "epoch:  200\ta 0.894249\tb -0.196059\tc 0.061703\t\n",
      "epoch:  300\ta 0.894248\tb -0.196058\tc 0.061701\t\n",
      "epoch:  400\ta 0.894248\tb -0.196058\tc 0.061701\t\n",
      "epoch:  500\ta 0.894248\tb -0.196058\tc 0.061701\t\n",
      "epoch:  600\ta 0.894248\tb -0.196058\tc 0.061701\t\n",
      "epoch:  700\ta 0.894248\tb -0.196058\tc 0.061701\t\n",
      "epoch:  800\ta 0.894248\tb -0.196058\tc 0.061701\t\n",
      "epoch:  900\ta 0.894248\tb -0.196058\tc 0.061701\t\n",
      "epoch: 1000\ta 0.894248\tb -0.196058\tc 0.061701\t\n"
     ]
    }
   ],
   "source": [
    "for epoch in range(1, epochs+1, 1):\n",
    "    optimizer.minimize(compute_loss, var_list=[a, b, c])\n",
    "    \n",
    "    if epoch % 100 == 0:\n",
    "        print('epoch: {:4d}\\ta {:4f}\\tb {:4f}\\tc {:4f}\\t'.format(epoch, a.numpy(), b.numpy(), c.numpy()))"
   ]
  },
  {
   "cell_type": "markdown",
   "metadata": {
    "id": "Fbyej01IumFX"
   },
   "source": [
    "### 학습 후의 회귀선"
   ]
  },
  {
   "cell_type": "code",
   "execution_count": 40,
   "metadata": {
    "id": "gKqDyDwXugdP"
   },
   "outputs": [
    {
     "data": {
      "image/png": "[encoded data removed]",
      "text/plain": [
       "<Figure size 640x480 with 1 Axes>"
      ]
     },
     "metadata": {},
     "output_type": "display_data"
    }
   ],
   "source": [
    "line_x = np.arange(min(X), max(X), 0.001)\n",
    "line_y = a*line_x**2 + b*line_x + c\n",
    "\n",
    "plt.scatter(X, Y, label='X data')\n",
    "plt.plot(x_, y_, 'g--', label='origin line')\n",
    "plt.plot(line_x, line_y, 'r--', label='after train')\n",
    "plt.xlim(-4.0, 4.0)\n",
    "plt.legend()\n",
    "plt.grid()\n",
    "plt.show()"
   ]
  },
  {
   "cell_type": "markdown",
   "metadata": {
    "id": "jtCFXjS6uwry"
   },
   "source": [
    "## 로지스틱 회귀(Logistic Regression)\n",
    "- 다항 분류, MNIST"
   ]
  },
  {
   "cell_type": "markdown",
   "metadata": {
    "id": "GIdxzXa1vJmt"
   },
   "source": [
    "### modules import"
   ]
  },
  {
   "cell_type": "code",
   "execution_count": 41,
   "metadata": {
    "id": "LGHeQjgYumXM"
   },
   "outputs": [],
   "source": [
    "from tensorflow.keras.datasets import mnist"
   ]
  },
  {
   "cell_type": "markdown",
   "metadata": {
    "id": "96xeDaPJvFW1"
   },
   "source": [
    "### 하이퍼 파라미터 (Hyper Parameter)\n"
   ]
  },
  {
   "cell_type": "code",
   "execution_count": 48,
   "metadata": {
    "id": "-lPlvJz1u6k-"
   },
   "outputs": [],
   "source": [
    "num_classes = 10\n",
    "num_features = 784\n",
    "\n",
    "learning_rate = 0.1\n",
    "training_steps = 1000\n",
    "batch_size = 256"
   ]
  },
  {
   "cell_type": "markdown",
   "metadata": {
    "id": "ZM5M9h8NvDWV"
   },
   "source": [
    "### 데이터 로드"
   ]
  },
  {
   "cell_type": "code",
   "execution_count": 49,
   "metadata": {
    "id": "qnobrT26vAvQ"
   },
   "outputs": [],
   "source": [
    "(X_train, Y_train), (X_test, Y_test) = mnist.load_data()\n",
    "\n",
    "X_train, X_test = np.array(X_train, np.float32), np.array(X_test, np.float32)\n",
    "\n",
    "X_train, X_test = X_train.reshape([-1, num_features]), X_test.reshape([-1, num_features])\n",
    "\n",
    "X_train, X_test = X_train / 255., X_test / 255."
   ]
  },
  {
   "cell_type": "markdown",
   "metadata": {
    "id": "o3bJVBPtve43"
   },
   "source": [
    "### tf.data API 사용\n",
    "- 03 에서 다시 다룸"
   ]
  },
  {
   "cell_type": "code",
   "execution_count": 50,
   "metadata": {
    "id": "-OWS2nV_vPly"
   },
   "outputs": [],
   "source": [
    "train_data = tf.data.Dataset.from_tensor_slices((X_train, Y_train))\n",
    "train_data = train_data.repeat().shuffle(5000).batch(batch_size).prefetch(1)"
   ]
  },
  {
   "cell_type": "markdown",
   "metadata": {
    "id": "fHbbQ29awub_"
   },
   "source": [
    "### 변수 지정"
   ]
  },
  {
   "cell_type": "code",
   "execution_count": 51,
   "metadata": {
    "id": "NTMKizyIww0x"
   },
   "outputs": [],
   "source": [
    "W = tf.Variable(tf.random.normal([num_features, num_classes]), name='weight')\n",
    "b = tf.Variable(tf.zeros([num_classes]), name='bias')"
   ]
  },
  {
   "cell_type": "markdown",
   "metadata": {
    "id": "kiK9LRUNwxC1"
   },
   "source": [
    "### Util Functions"
   ]
  },
  {
   "cell_type": "code",
   "execution_count": 61,
   "metadata": {
    "id": "ylkNeSdhvbi6"
   },
   "outputs": [],
   "source": [
    "def logistic_regression(x):\n",
    "    return tf.nn.softmax(tf.matmul(x, W) + b)\n",
    "\n",
    "def cross_entropy(pred_y, true_y):\n",
    "    true_y = tf.one_hot(true_y, depth=num_classes)\n",
    "    pred_y = tf.clip_by_value(pred_y, 1e-9, 1.)\n",
    "    \n",
    "    return tf.reduce_mean(-tf.reduce_sum(true_y * tf.math.log(pred_y), 1))\n",
    "\n",
    "def accuracy(y_pred, y_true):\n",
    "    correct_predict = tf.equal(tf.argmax(y_pred, 1), tf.cast(y_true, tf.int64))\n",
    "    return tf.reduce_mean(tf.cast(correct_predict, tf.float32))"
   ]
  },
  {
   "cell_type": "markdown",
   "metadata": {
    "id": "ePdcyFeUxVNu"
   },
   "source": [
    "### Optimizer"
   ]
  },
  {
   "cell_type": "code",
   "execution_count": 62,
   "metadata": {
    "id": "uAQHksH_xW6h"
   },
   "outputs": [
    {
     "name": "stderr",
     "output_type": "stream",
     "text": [
      "WARNING:absl:At this time, the v2.11+ optimizer `tf.keras.optimizers.SGD` runs slowly on M1/M2 Macs, please use the legacy Keras optimizer instead, located at `tf.keras.optimizers.legacy.SGD`.\n"
     ]
    }
   ],
   "source": [
    "optimizer = tf.optimizers.SGD(learning_rate)"
   ]
  },
  {
   "cell_type": "code",
   "execution_count": 63,
   "metadata": {
    "id": "hksbn4Njvvyk"
   },
   "outputs": [],
   "source": [
    "def run_optimization(x, y):\n",
    "    with tf.GradientTape() as tape:\n",
    "        pred = logistic_regression(x)\n",
    "        loss = cross_entropy(pred, y)\n",
    "        \n",
    "    gradients = tape.gradient(loss, [W, b])\n",
    "    \n",
    "    optimizer.apply_gradients(zip(gradients, [W, b]))"
   ]
  },
  {
   "cell_type": "markdown",
   "metadata": {
    "id": "6B0i4_VvzheR"
   },
   "source": [
    "### 학습 진행"
   ]
  },
  {
   "cell_type": "code",
   "execution_count": 74,
   "metadata": {
    "id": "k1z97_GVwrOV"
   },
   "outputs": [
    {
     "name": "stdout",
     "output_type": "stream",
     "text": [
      "step:   50\tloss: 0.936047\taccuracy: 0.808594\n",
      "step:  100\tloss: 0.612974\taccuracy: 0.863281\n",
      "step:  150\tloss: 0.736704\taccuracy: 0.816406\n",
      "step:  200\tloss: 0.803376\taccuracy: 0.832031\n",
      "step:  250\tloss: 0.958365\taccuracy: 0.804688\n",
      "step:  300\tloss: 0.750970\taccuracy: 0.839844\n",
      "step:  350\tloss: 1.000856\taccuracy: 0.800781\n",
      "step:  400\tloss: 1.001530\taccuracy: 0.808594\n",
      "step:  450\tloss: 0.572193\taccuracy: 0.839844\n",
      "step:  500\tloss: 0.509045\taccuracy: 0.847656\n",
      "step:  550\tloss: 0.766578\taccuracy: 0.824219\n",
      "step:  600\tloss: 0.621903\taccuracy: 0.820312\n",
      "step:  650\tloss: 0.805772\taccuracy: 0.816406\n",
      "step:  700\tloss: 0.682917\taccuracy: 0.851562\n",
      "step:  750\tloss: 0.610893\taccuracy: 0.871094\n",
      "step:  800\tloss: 0.879285\taccuracy: 0.835938\n",
      "step:  850\tloss: 0.706737\taccuracy: 0.835938\n",
      "step:  900\tloss: 0.645891\taccuracy: 0.851562\n",
      "step:  950\tloss: 0.556914\taccuracy: 0.871094\n",
      "step: 1000\tloss: 0.801848\taccuracy: 0.816406\n"
     ]
    }
   ],
   "source": [
    "for step, (batch_x, batch_y) in enumerate(train_data.take(training_steps), 1):\n",
    "    run_optimization(batch_x, batch_y)\n",
    "    \n",
    "    if step % 50 == 0:\n",
    "        pred = logistic_regression(batch_x)\n",
    "        loss = cross_entropy(pred, batch_y)\n",
    "        acc = accuracy(pred, batch_y)\n",
    "        print('step: {:4d}\\tloss: {:4f}\\taccuracy: {:4f}'.format(step, loss, acc))"
   ]
  },
  {
   "cell_type": "markdown",
   "metadata": {
    "id": "RTv-fBSMzj3e"
   },
   "source": [
    "###  테스트"
   ]
  },
  {
   "cell_type": "code",
   "execution_count": 75,
   "metadata": {
    "id": "MlKYyRnWxbzs"
   },
   "outputs": [
    {
     "name": "stdout",
     "output_type": "stream",
     "text": [
      "Test Accuracy: 0.8443999886512756\n"
     ]
    }
   ],
   "source": [
    "pred = logistic_regression(X_test)\n",
    "print('Test Accuracy: {}'.format(accuracy(pred, Y_test)))"
   ]
  },
  {
   "cell_type": "markdown",
   "metadata": {
    "id": "NX_R9BP3zkzH"
   },
   "source": [
    "### 시각화"
   ]
  },
  {
   "cell_type": "code",
   "execution_count": 76,
   "metadata": {
    "id": "Y2sVd13zyh3a"
   },
   "outputs": [
    {
     "data": {
      "image/png": "[encoded data removed]",
      "text/plain": [
       "<Figure size 1400x800 with 5 Axes>"
      ]
     },
     "metadata": {},
     "output_type": "display_data"
    }
   ],
   "source": [
    "num_images = 5\n",
    "test_images = X_test[:num_images]\n",
    "predictions = logistic_regression(test_images)\n",
    "\n",
    "plt.figure(figsize=(14, 8))\n",
    "for i in range(1, num_images+1, 1):\n",
    "    plt.subplot(1, num_images, i)\n",
    "    plt.imshow(np.reshape(test_images[i-1], [28, 28]), cmap='gray')\n",
    "    plt.title('Model prediction: {}'.format(np.argmax(predictions.numpy()[i-1])))\n",
    "    \n",
    "plt.show()"
   ]
  }
 ],
 "metadata": {
  "accelerator": "GPU",
  "colab": {
   "provenance": []
  },
  "kernelspec": {
   "display_name": "Python 3 (ipykernel)",
   "language": "python",
   "name": "python3"
  },
  "language_info": {
   "codemirror_mode": {
    "name": "ipython",
    "version": 3
   },
   "file_extension": ".py",
   "mimetype": "text/x-python",
   "name": "python",
   "nbconvert_exporter": "python",
   "pygments_lexer": "ipython3",
   "version": "3.10.12"
  },
  "toc": {
   "base_numbering": 1,
   "nav_menu": {},
   "number_sections": true,
   "sideBar": true,
   "skip_h1_title": false,
   "title_cell": "Table of Contents",
   "title_sidebar": "Contents",
   "toc_cell": false,
   "toc_position": {},
   "toc_section_display": true,
   "toc_window_display": false
  }
 },
 "nbformat": 4,
 "nbformat_minor": 1
}
